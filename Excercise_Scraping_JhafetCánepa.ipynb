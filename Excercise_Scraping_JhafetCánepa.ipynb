{
  "nbformat": 4,
  "nbformat_minor": 0,
  "metadata": {
    "colab": {
      "provenance": []
    },
    "kernelspec": {
      "name": "python3",
      "display_name": "Python 3"
    },
    "language_info": {
      "name": "python"
    }
  },
  "cells": [
    {
      "cell_type": "code",
      "execution_count": null,
      "metadata": {
        "id": "KnZgg2pKCxUp"
      },
      "outputs": [],
      "source": [
        "#Excercise extracting stock data using a python\n"
      ]
    },
    {
      "cell_type": "code",
      "source": [
        "#librerias implemantas"
      ],
      "metadata": {
        "id": "uCrcNOixDbZb"
      },
      "execution_count": null,
      "outputs": []
    },
    {
      "cell_type": "code",
      "source": [
        "!pip install yfinance"
      ],
      "metadata": {
        "colab": {
          "base_uri": "https://localhost:8080/"
        },
        "id": "TzLun6_8DeE6",
        "outputId": "e3b5786d-6fa5-4961-f482-2a1f783b8cfa"
      },
      "execution_count": null,
      "outputs": [
        {
          "output_type": "stream",
          "name": "stdout",
          "text": [
            "Requirement already satisfied: yfinance in /usr/local/lib/python3.10/dist-packages (0.2.36)\n",
            "Requirement already satisfied: pandas>=1.3.0 in /usr/local/lib/python3.10/dist-packages (from yfinance) (1.5.3)\n",
            "Requirement already satisfied: numpy>=1.16.5 in /usr/local/lib/python3.10/dist-packages (from yfinance) (1.25.2)\n",
            "Requirement already satisfied: requests>=2.31 in /usr/local/lib/python3.10/dist-packages (from yfinance) (2.31.0)\n",
            "Requirement already satisfied: multitasking>=0.0.7 in /usr/local/lib/python3.10/dist-packages (from yfinance) (0.0.11)\n",
            "Requirement already satisfied: lxml>=4.9.1 in /usr/local/lib/python3.10/dist-packages (from yfinance) (4.9.4)\n",
            "Requirement already satisfied: appdirs>=1.4.4 in /usr/local/lib/python3.10/dist-packages (from yfinance) (1.4.4)\n",
            "Requirement already satisfied: pytz>=2022.5 in /usr/local/lib/python3.10/dist-packages (from yfinance) (2023.4)\n",
            "Requirement already satisfied: frozendict>=2.3.4 in /usr/local/lib/python3.10/dist-packages (from yfinance) (2.4.0)\n",
            "Requirement already satisfied: peewee>=3.16.2 in /usr/local/lib/python3.10/dist-packages (from yfinance) (3.17.1)\n",
            "Requirement already satisfied: beautifulsoup4>=4.11.1 in /usr/local/lib/python3.10/dist-packages (from yfinance) (4.12.3)\n",
            "Requirement already satisfied: html5lib>=1.1 in /usr/local/lib/python3.10/dist-packages (from yfinance) (1.1)\n",
            "Requirement already satisfied: soupsieve>1.2 in /usr/local/lib/python3.10/dist-packages (from beautifulsoup4>=4.11.1->yfinance) (2.5)\n",
            "Requirement already satisfied: six>=1.9 in /usr/local/lib/python3.10/dist-packages (from html5lib>=1.1->yfinance) (1.16.0)\n",
            "Requirement already satisfied: webencodings in /usr/local/lib/python3.10/dist-packages (from html5lib>=1.1->yfinance) (0.5.1)\n",
            "Requirement already satisfied: python-dateutil>=2.8.1 in /usr/local/lib/python3.10/dist-packages (from pandas>=1.3.0->yfinance) (2.8.2)\n",
            "Requirement already satisfied: charset-normalizer<4,>=2 in /usr/local/lib/python3.10/dist-packages (from requests>=2.31->yfinance) (3.3.2)\n",
            "Requirement already satisfied: idna<4,>=2.5 in /usr/local/lib/python3.10/dist-packages (from requests>=2.31->yfinance) (3.6)\n",
            "Requirement already satisfied: urllib3<3,>=1.21.1 in /usr/local/lib/python3.10/dist-packages (from requests>=2.31->yfinance) (2.0.7)\n",
            "Requirement already satisfied: certifi>=2017.4.17 in /usr/local/lib/python3.10/dist-packages (from requests>=2.31->yfinance) (2024.2.2)\n"
          ]
        }
      ]
    },
    {
      "cell_type": "code",
      "source": [
        "import yfinance as yf\n",
        "import pandas as pd"
      ],
      "metadata": {
        "colab": {
          "base_uri": "https://localhost:8080/"
        },
        "id": "h3MhBEvuDsnt",
        "outputId": "e5e46252-2d10-49fb-98e6-8a69eadd4ce1"
      },
      "execution_count": null,
      "outputs": [
        {
          "output_type": "stream",
          "name": "stderr",
          "text": [
            "/usr/local/lib/python3.10/dist-packages/yfinance/base.py:48: FutureWarning: The default dtype for empty Series will be 'object' instead of 'float64' in a future version. Specify a dtype explicitly to silence this warning.\n",
            "  _empty_series = pd.Series()\n"
          ]
        }
      ]
    },
    {
      "cell_type": "markdown",
      "source": [
        "Using the yfinance library"
      ],
      "metadata": {
        "id": "6-ikB2zQD-2-"
      }
    },
    {
      "cell_type": "code",
      "source": [
        "amd = yf.Ticker(\"AMD\")"
      ],
      "metadata": {
        "id": "QFg09He8EK6g"
      },
      "execution_count": null,
      "outputs": []
    },
    {
      "cell_type": "code",
      "source": [
        "#printing company information"
      ],
      "metadata": {
        "id": "D3KcnMemEon_"
      },
      "execution_count": null,
      "outputs": []
    },
    {
      "cell_type": "code",
      "source": [
        "info = amd.info\n",
        "print(info)"
      ],
      "metadata": {
        "colab": {
          "base_uri": "https://localhost:8080/"
        },
        "id": "kZ7uTSrUEyJA",
        "outputId": "9a4b2813-44eb-41a0-d102-f972eb670c87"
      },
      "execution_count": null,
      "outputs": [
        {
          "output_type": "stream",
          "name": "stdout",
          "text": [
            "{'address1': '2485 Augustine Drive', 'city': 'Santa Clara', 'state': 'CA', 'zip': '95054', 'country': 'United States', 'phone': '408 749 4000', 'website': 'https://www.amd.com', 'industry': 'Semiconductors', 'industryKey': 'semiconductors', 'industryDisp': 'Semiconductors', 'sector': 'Technology', 'sectorKey': 'technology', 'sectorDisp': 'Technology', 'longBusinessSummary': 'Advanced Micro Devices, Inc. operates as a semiconductor company worldwide. It operates through Data Center, Client, Gaming, and Embedded segments. The company offers x86 microprocessors and graphics processing units (GPUs) as an accelerated processing unit, chipsets, data center, and professional GPUs; and embedded processors, and semi-custom system-on-chip (SoC) products, microprocessor and SoC development services and technology, data processing unites, field programmable gate arrays (FPGA), and adaptive SoC products. It provides processors under the AMD Ryzen, AMD Ryzen PRO, Ryzen Threadripper, Ryzen Threadripper PRO, AMD Athlon, AMD Athlon PRO, and AMD PRO A-Series brand names; graphics under the AMD Radeon graphics and AMD Embedded Radeon graphics; and professional graphics under the AMD Radeon Pro graphics brand name. In addition, the company offers data center graphics under the Radeon Instinct and Radeon PRO V-series brands, as well as servers under the AMD Instinct accelerators brand; server microprocessors under the AMD EPYC brands; low power solutions under the AMD Athlon, AMD Geode, AMD Ryzen, AMD EPYC, AMD R-Series, and G-Series brands; FPGA products under the Virtex-6, Virtex-7, Virtex UltraScale+, Kintex-7, Kintex UltraScale, Kintex UltraScale+, Artix-7, Artix UltraScale+, Spartan-6, and Spartan-7 brands; adaptive SOCs under the Zynq-7000, Zynq UltraScale+ MPSoC, Zynq UltraScale+ RFSoCs, Versal HBM, Versal Premium, Versal Prime, Versal AI Core, Versal AI Edge, Vitis, and Vivado brands; and compute and network acceleration board products under the Alveo brand. It serves original equipment and design manufacturers, public cloud service providers, system integrators, independent distributors, and add-in-board manufacturers through its direct sales force, and sales representatives. Advanced Micro Devices, Inc. was incorporated in 1969 and is headquartered in Santa Clara, California.', 'fullTimeEmployees': 26000, 'companyOfficers': [{'maxAge': 1, 'name': 'Dr. Lisa T. Su Ph.D.', 'age': 53, 'title': 'Chair, President & CEO', 'yearBorn': 1970, 'fiscalYear': 2022, 'totalPay': 2120679, 'exercisedValue': 61926388, 'unexercisedValue': 84294872}, {'maxAge': 1, 'name': 'Mr. Mark D. Papermaster', 'age': 61, 'title': 'CTO and Executive VP of Technology & Engineering', 'yearBorn': 1962, 'fiscalYear': 2022, 'totalPay': 1140933, 'exercisedValue': 4836541, 'unexercisedValue': 22460436}, {'maxAge': 1, 'name': 'Mr. Victor  Peng', 'age': 63, 'title': 'President of AMD', 'yearBorn': 1960, 'fiscalYear': 2022, 'totalPay': 6091409, 'exercisedValue': 0, 'unexercisedValue': 0}, {'maxAge': 1, 'name': 'Mr. Paul Darren Grasby', 'age': 53, 'title': 'Executive Vice President of Strategic Partnerships & President EMEA', 'yearBorn': 1970, 'fiscalYear': 2022, 'totalPay': 921473, 'exercisedValue': 1077205, 'unexercisedValue': 432646}, {'maxAge': 1, 'name': 'Ms. Jean X. Hu', 'age': 60, 'title': 'Executive VP, CFO & Treasurer', 'yearBorn': 1963, 'fiscalYear': 2022, 'exercisedValue': 0, 'unexercisedValue': 0}, {'maxAge': 1, 'name': 'Mr. Keivan  Keshvari', 'title': 'Senior Vice President of Global Operations', 'fiscalYear': 2022, 'exercisedValue': 0, 'unexercisedValue': 0}, {'maxAge': 1, 'name': 'Ms. Darla M. Smith', 'age': 57, 'title': 'Corporate VP & Chief Accounting Officer', 'yearBorn': 1966, 'fiscalYear': 2022, 'exercisedValue': 0, 'unexercisedValue': 0}, {'maxAge': 1, 'name': 'Mr. Hasmukh  Ranjan', 'title': 'Senior VP & Chief Information Officer', 'fiscalYear': 2022, 'exercisedValue': 0, 'unexercisedValue': 0}, {'maxAge': 1, 'name': 'Mr. Mitchell J. Haws', 'age': 59, 'title': 'Vice President of Investor Relations', 'yearBorn': 1964, 'fiscalYear': 2022, 'exercisedValue': 0, 'unexercisedValue': 0}, {'maxAge': 1, 'name': 'Ms. Ava M. Hahn J.D.', 'age': 50, 'title': 'Senior VP, General Counsel & Corporate Secretary', 'yearBorn': 1973, 'fiscalYear': 2022, 'exercisedValue': 0, 'unexercisedValue': 0}], 'auditRisk': 8, 'boardRisk': 5, 'compensationRisk': 7, 'shareHolderRightsRisk': 3, 'overallRisk': 5, 'governanceEpochDate': 1706745600, 'compensationAsOfEpochDate': 1672444800, 'maxAge': 86400, 'priceHint': 2, 'previousClose': 181.86, 'open': 181.86, 'dayLow': 174.56, 'dayHigh': 183.8, 'regularMarketPreviousClose': 181.86, 'regularMarketOpen': 181.86, 'regularMarketDayLow': 174.56, 'regularMarketDayHigh': 183.8, 'exDividendDate': 798940800, 'beta': 1.629, 'trailingPE': 333.05664, 'forwardPE': 32.388992, 'volume': 69207367, 'regularMarketVolume': 69207367, 'averageVolume': 72526708, 'averageVolume10days': 62520950, 'averageDailyVolume10Day': 62520950, 'bid': 175.85, 'ask': 175.89, 'bidSize': 1100, 'askSize': 1800, 'marketCap': 285219258368, 'fiftyTwoWeekLow': 76.65, 'fiftyTwoWeekHigh': 184.92, 'priceToSalesTrailing12Months': 12.575805, 'fiftyDayAverage': 158.594, 'twoHundredDayAverage': 122.7535, 'currency': 'USD', 'enterpriseValue': 282554695680, 'profitMargins': 0.03765, 'floatShares': 1604686385, 'sharesOutstanding': 1615789952, 'sharesShort': 39854821, 'sharesShortPriorMonth': 49153022, 'sharesShortPreviousMonthDate': 1703808000, 'dateShortInterest': 1706659200, 'sharesPercentSharesOut': 0.0247, 'heldPercentInsiders': 0.00488, 'heldPercentInstitutions': 0.75001, 'shortRatio': 0.43, 'shortPercentOfFloat': 0.0248, 'impliedSharesOutstanding': 1615789952, 'bookValue': 34.587, 'priceToBook': 5.1036515, 'lastFiscalYearEnd': 1703894400, 'nextFiscalYearEnd': 1735516800, 'mostRecentQuarter': 1703894400, 'earningsQuarterlyGrowth': 30.762, 'netIncomeToCommon': 854000000, 'trailingEps': 0.53, 'forwardEps': 5.45, 'pegRatio': 2.02, 'lastSplitFactor': '2:1', 'lastSplitDate': 966902400, 'enterpriseToRevenue': 12.458, 'enterpriseToEbitda': 73.315, '52WeekChange': 1.2409546, 'SandP52WeekChange': 0.27787375, 'exchange': 'NMS', 'quoteType': 'EQUITY', 'symbol': 'AMD', 'underlyingSymbol': 'AMD', 'shortName': 'Advanced Micro Devices, Inc.', 'longName': 'Advanced Micro Devices, Inc.', 'firstTradeDateEpochUtc': 322151400, 'timeZoneFullName': 'America/New_York', 'timeZoneShortName': 'EST', 'uuid': '48af4341-f745-363f-945f-a838eeabb062', 'messageBoardId': 'finmb_168864', 'gmtOffSetMilliseconds': -18000000, 'currentPrice': 176.52, 'targetHighPrice': 270.0, 'targetLowPrice': 60.0, 'targetMeanPrice': 187.2, 'targetMedianPrice': 193.88, 'recommendationMean': 1.9, 'recommendationKey': 'buy', 'numberOfAnalystOpinions': 40, 'totalCash': 5773000192, 'totalCashPerShare': 3.573, 'ebitda': 3854000128, 'totalDebt': 3108999936, 'quickRatio': 1.668, 'currentRatio': 2.507, 'totalRevenue': 22680000512, 'debtToEquity': 5.563, 'revenuePerShare': 14.052, 'returnOnAssets': 0.0037, 'returnOnEquity': 0.01544, 'freeCashflow': 2205374976, 'operatingCashflow': 1667000064, 'earningsGrowth': 48.693, 'revenueGrowth': 0.102, 'grossMargins': 0.50273, 'ebitdaMargins': 0.16993, 'operatingMargins': 0.05545, 'financialCurrency': 'USD', 'trailingPegRatio': 0.7159}\n"
          ]
        }
      ]
    },
    {
      "cell_type": "code",
      "source": [
        "#historical price volumes"
      ],
      "metadata": {
        "id": "tTlQBAyWFHrP"
      },
      "execution_count": null,
      "outputs": []
    },
    {
      "cell_type": "code",
      "source": [
        "historical_data = amd.history(period=\"12mo\")\n",
        "print(historical_data)"
      ],
      "metadata": {
        "colab": {
          "base_uri": "https://localhost:8080/"
        },
        "id": "0eJt-sXtFMAh",
        "outputId": "1a37a457-e69a-4eaa-b399-dca1700e8a10"
      },
      "execution_count": null,
      "outputs": [
        {
          "output_type": "stream",
          "name": "stdout",
          "text": [
            "                                 Open        High         Low       Close  \\\n",
            "Date                                                                        \n",
            "2023-02-24 00:00:00-05:00   77.750000   78.809998   76.940002   78.089996   \n",
            "2023-02-27 00:00:00-05:00   79.639999   80.120003   78.529999   78.769997   \n",
            "2023-02-28 00:00:00-05:00   77.870003   80.139999   77.419998   78.580002   \n",
            "2023-03-01 00:00:00-05:00   78.550003   80.290001   77.879997   78.290001   \n",
            "2023-03-02 00:00:00-05:00   77.570000   80.919998   76.650002   80.440002   \n",
            "...                               ...         ...         ...         ...   \n",
            "2024-02-16 00:00:00-05:00  177.449997  180.330002  173.250000  173.869995   \n",
            "2024-02-20 00:00:00-05:00  171.139999  171.809998  162.000000  165.690002   \n",
            "2024-02-21 00:00:00-05:00  162.740005  164.899994  161.809998  164.289993   \n",
            "2024-02-22 00:00:00-05:00  173.199997  183.830002  172.000000  181.860001   \n",
            "2024-02-23 00:00:00-05:00  181.860001  183.800003  174.550003  176.520004   \n",
            "\n",
            "                              Volume  Dividends  Stock Splits  \n",
            "Date                                                           \n",
            "2023-02-24 00:00:00-05:00   46700000        0.0           0.0  \n",
            "2023-02-27 00:00:00-05:00   45617300        0.0           0.0  \n",
            "2023-02-28 00:00:00-05:00   44220100        0.0           0.0  \n",
            "2023-03-01 00:00:00-05:00   44266000        0.0           0.0  \n",
            "2023-03-02 00:00:00-05:00   60108600        0.0           0.0  \n",
            "...                              ...        ...           ...  \n",
            "2024-02-16 00:00:00-05:00   53896000        0.0           0.0  \n",
            "2024-02-20 00:00:00-05:00   66550000        0.0           0.0  \n",
            "2024-02-21 00:00:00-05:00   48774600        0.0           0.0  \n",
            "2024-02-22 00:00:00-05:00  100684700        0.0           0.0  \n",
            "2024-02-23 00:00:00-05:00   69151200        0.0           0.0  \n",
            "\n",
            "[251 rows x 7 columns]\n"
          ]
        }
      ]
    },
    {
      "cell_type": "code",
      "source": [
        "#making profits"
      ],
      "metadata": {
        "id": "qnTLA-snFR-2"
      },
      "execution_count": null,
      "outputs": []
    },
    {
      "cell_type": "code",
      "source": [
        "dividends = amd.dividends\n",
        "print(dividends)"
      ],
      "metadata": {
        "colab": {
          "base_uri": "https://localhost:8080/"
        },
        "id": "-BfMLkPbFXuq",
        "outputId": "25113ad6-ac81-4f30-e054-267938720041"
      },
      "execution_count": null,
      "outputs": [
        {
          "output_type": "stream",
          "name": "stdout",
          "text": [
            "Series([], Name: Dividends, dtype: float64)\n"
          ]
        }
      ]
    },
    {
      "cell_type": "code",
      "source": [
        "#splits the  actions"
      ],
      "metadata": {
        "id": "elk72ncZFawj"
      },
      "execution_count": null,
      "outputs": []
    },
    {
      "cell_type": "code",
      "source": [
        "splits = amd.splits\n",
        "print(splits)"
      ],
      "metadata": {
        "colab": {
          "base_uri": "https://localhost:8080/"
        },
        "id": "2w45S54eFhM5",
        "outputId": "3115c66e-71f8-4c19-97b3-d13985dc5113"
      },
      "execution_count": null,
      "outputs": [
        {
          "output_type": "stream",
          "name": "stdout",
          "text": [
            "Series([], Name: Stock Splits, dtype: float64)\n"
          ]
        }
      ]
    }
  ]
}